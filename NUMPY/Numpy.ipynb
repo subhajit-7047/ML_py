{
 "cells": [
  {
   "cell_type": "markdown",
   "id": "cf83df70",
   "metadata": {},
   "source": [
    "Numpy - 1. Provides us n-dim Array\n",
    "\n",
    "Used to perform mathametical and statistical operations on numerical data.\n"
   ]
  },
  {
   "cell_type": "code",
   "execution_count": 2,
   "id": "90278c2c",
   "metadata": {},
   "outputs": [],
   "source": [
    "import numpy as np"
   ]
  },
  {
   "cell_type": "code",
   "execution_count": 3,
   "id": "cb0ed512",
   "metadata": {},
   "outputs": [],
   "source": [
    "# 1d array\n",
    "arr_1_d = np.array([12, 54, 87, 98])\n",
    "\n",
    "# 2d array\n",
    "arr_2_d = np.array([[12, 54, 87], [56, 78, 32]])\n",
    "\n",
    "# 3d array\n",
    "arr_3_d = np.array([[[12, 23, 34], [21, 32, 43]], [[56, 67, 78], [54, 65, 76]]])"
   ]
  },
  {
   "cell_type": "code",
   "execution_count": 4,
   "id": "2a21ff93",
   "metadata": {},
   "outputs": [
    {
     "data": {
      "text/plain": [
       "array([[[12, 23, 34],\n",
       "        [21, 32, 43]],\n",
       "\n",
       "       [[56, 67, 78],\n",
       "        [54, 65, 76]]])"
      ]
     },
     "execution_count": 4,
     "metadata": {},
     "output_type": "execute_result"
    }
   ],
   "source": [
    "arr_3_d"
   ]
  },
  {
   "cell_type": "code",
   "execution_count": 5,
   "id": "e7140bf8",
   "metadata": {},
   "outputs": [
    {
     "data": {
      "text/plain": [
       "3"
      ]
     },
     "execution_count": 5,
     "metadata": {},
     "output_type": "execute_result"
    }
   ],
   "source": [
    "# ndim -> is used to check the dimentions of an array.\n",
    "arr_3_d.ndim\n"
   ]
  },
  {
   "cell_type": "code",
   "execution_count": 6,
   "id": "8121274e",
   "metadata": {},
   "outputs": [
    {
     "data": {
      "text/plain": [
       "array([[[[[[[[[[[[[[[12, 54, 87, 98]]]]]]]]]]]]]]])"
      ]
     },
     "execution_count": 6,
     "metadata": {},
     "output_type": "execute_result"
    }
   ],
   "source": [
    "# ndarray\n",
    "arr_n_d = np.array([12, 54, 87, 98], ndmin=15)  # for 15d array\n",
    "arr_n_d"
   ]
  },
  {
   "cell_type": "code",
   "execution_count": 7,
   "id": "01a3dde2",
   "metadata": {},
   "outputs": [
    {
     "data": {
      "text/plain": [
       "np.int64(87)"
      ]
     },
     "execution_count": 7,
     "metadata": {},
     "output_type": "execute_result"
    }
   ],
   "source": [
    "arr_1_d[2]"
   ]
  },
  {
   "cell_type": "code",
   "execution_count": 8,
   "id": "a19c22e5",
   "metadata": {},
   "outputs": [],
   "source": [
    "arr_2_d = np.array([[12, 54, 87], [56, 78, 32]])"
   ]
  },
  {
   "cell_type": "code",
   "execution_count": 9,
   "id": "631dd4a4",
   "metadata": {},
   "outputs": [
    {
     "data": {
      "text/plain": [
       "np.int64(56)"
      ]
     },
     "execution_count": 9,
     "metadata": {},
     "output_type": "execute_result"
    }
   ],
   "source": [
    "arr_2_d[1, 0]"
   ]
  },
  {
   "cell_type": "code",
   "execution_count": 10,
   "id": "ffaecdc9",
   "metadata": {},
   "outputs": [],
   "source": [
    "arr_3_d = np.array([[[12, 23, 34], [21, 32, 43]], [[56, 67, 78], [54, 65, 76]]])"
   ]
  },
  {
   "cell_type": "code",
   "execution_count": 11,
   "id": "9f8b5c7c",
   "metadata": {},
   "outputs": [
    {
     "data": {
      "text/plain": [
       "np.int64(65)"
      ]
     },
     "execution_count": 11,
     "metadata": {},
     "output_type": "execute_result"
    }
   ],
   "source": [
    "arr_3_d[1, 1, 1]"
   ]
  },
  {
   "cell_type": "code",
   "execution_count": 12,
   "id": "574dc6f2",
   "metadata": {},
   "outputs": [
    {
     "data": {
      "text/plain": [
       "np.int64(43)"
      ]
     },
     "execution_count": 12,
     "metadata": {},
     "output_type": "execute_result"
    }
   ],
   "source": [
    "arr_3_d[0, 1, 2]"
   ]
  },
  {
   "cell_type": "code",
   "execution_count": 13,
   "id": "c922c51a",
   "metadata": {},
   "outputs": [
    {
     "data": {
      "text/plain": [
       "np.int64(78)"
      ]
     },
     "execution_count": 13,
     "metadata": {},
     "output_type": "execute_result"
    }
   ],
   "source": [
    "arr_3_d[1, 0, 2]"
   ]
  },
  {
   "cell_type": "code",
   "execution_count": 14,
   "id": "7e7f686d",
   "metadata": {},
   "outputs": [
    {
     "data": {
      "text/plain": [
       "(2, 2, 3)"
      ]
     },
     "execution_count": 14,
     "metadata": {},
     "output_type": "execute_result"
    }
   ],
   "source": [
    "arr_3_d.shape\n",
    "# output:(2, 2, 3)  rows=2, col=2, inside the element=3"
   ]
  },
  {
   "cell_type": "code",
   "execution_count": 15,
   "id": "301171d5",
   "metadata": {},
   "outputs": [
    {
     "data": {
      "text/plain": [
       "(2, 2, 5)"
      ]
     },
     "execution_count": 15,
     "metadata": {},
     "output_type": "execute_result"
    }
   ],
   "source": [
    "arr_3_d1 = np.array(\n",
    "    [\n",
    "        [[12, 23, 34, 45, 44], [21, 32, 43, 8, 9]],\n",
    "        [[56, 67, 78, 7, 8], [54, 65, 76, 7, 9]],\n",
    "    ]\n",
    ")\n",
    "arr_3_d1\n",
    "arr_3_d1.shape\n",
    "# output:(2, 2, 5)  rows=2, col=2, inside the element=5"
   ]
  },
  {
   "cell_type": "code",
   "execution_count": 16,
   "id": "4b0e3424",
   "metadata": {},
   "outputs": [
    {
     "data": {
      "text/plain": [
       "(2, 3, 5)"
      ]
     },
     "execution_count": 16,
     "metadata": {},
     "output_type": "execute_result"
    }
   ],
   "source": [
    "arr_3_d2 = np.array(\n",
    "    [\n",
    "        [[12, 23, 34, 45, 44], [21, 32, 43, 8, 9], [4, 5, 6, 7, 7]],\n",
    "        [[56, 67, 78, 7, 8], [54, 65, 76, 7, 9], [1, 2, 3, 4, 5]],\n",
    "    ]\n",
    ")\n",
    "\n",
    "arr_3_d2.shape\n",
    "# output:(2, 3, 5)  rows=2, col=3, inside the element=5"
   ]
  },
  {
   "cell_type": "code",
   "execution_count": 17,
   "id": "c1464edb",
   "metadata": {},
   "outputs": [
    {
     "data": {
      "text/plain": [
       "array([12, 54, 87])"
      ]
     },
     "execution_count": 17,
     "metadata": {},
     "output_type": "execute_result"
    }
   ],
   "source": [
    "## arr[start:end:step] // sclicing\n",
    "arr_1_d[\n",
    "    0:3\n",
    "]  # start from 0 to 3, but not including 3 because of end index it is exclusive"
   ]
  },
  {
   "cell_type": "code",
   "execution_count": 18,
   "id": "63135e5b",
   "metadata": {},
   "outputs": [
    {
     "data": {
      "text/plain": [
       "array([12, 54, 87])"
      ]
     },
     "execution_count": 18,
     "metadata": {},
     "output_type": "execute_result"
    }
   ],
   "source": [
    "arr_1_d = np.array([12, 54, 87, 98])\n",
    "arr_1_d[0:3]\n"
   ]
  },
  {
   "cell_type": "code",
   "execution_count": 19,
   "id": "074be38f",
   "metadata": {},
   "outputs": [
    {
     "data": {
      "text/plain": [
       "array([[12, 54],\n",
       "       [56, 78]])"
      ]
     },
     "execution_count": 19,
     "metadata": {},
     "output_type": "execute_result"
    }
   ],
   "source": [
    "arr_2_d = np.array([[12, 54, 87], [56, 78, 32]])\n",
    "arr_2_d[0:2, 0:2]  # [Rows,columns]\n"
   ]
  },
  {
   "cell_type": "code",
   "execution_count": 20,
   "id": "c5302b88",
   "metadata": {},
   "outputs": [
    {
     "name": "stdout",
     "output_type": "stream",
     "text": [
      "[[2 3]\n",
      " [5 6]]\n"
     ]
    }
   ],
   "source": [
    "b = np.array([[1, 2, 3], [4, 5, 6], [7, 8, 9]])\n",
    "\n",
    "print(b[0:2, 1:3])  # Rows 0-1, Columns 1-2\n",
    "# Output:\n",
    "# [[2 3]\n",
    "#  [5 6]]"
   ]
  },
  {
   "cell_type": "code",
   "execution_count": 21,
   "id": "62006998",
   "metadata": {},
   "outputs": [
    {
     "data": {
      "text/plain": [
       "array([12])"
      ]
     },
     "execution_count": 21,
     "metadata": {},
     "output_type": "execute_result"
    }
   ],
   "source": [
    "arr_2_d[-2, :-2]"
   ]
  },
  {
   "cell_type": "code",
   "execution_count": 22,
   "id": "6b4bf674",
   "metadata": {},
   "outputs": [],
   "source": [
    "arr_3_d2 = np.array(\n",
    "    [\n",
    "        [[12, 23, 34, 45, 44], [21, 32, 43, 8, 9], [4, 5, 6, 7, 7]],\n",
    "        [[56, 67, 78, 7, 8], [54, 65, 76, 7, 9], [1, 2, 3, 4, 5]],\n",
    "    ]\n",
    ")"
   ]
  },
  {
   "cell_type": "code",
   "execution_count": 23,
   "id": "756b3c45",
   "metadata": {},
   "outputs": [],
   "source": [
    "arr_3_d2 = np.array(\n",
    "    [\n",
    "        [  # Block 0\n",
    "            [12, 23, 34, 45, 44],  # Row 0\n",
    "            [21, 32, 43, 8, 9],  # Row 1\n",
    "            [4, 5, 6, 7, 7],  # Row 2\n",
    "        ],\n",
    "        [  # Block 1\n",
    "            [56, 67, 78, 7, 8],  # Row 0\n",
    "            [54, 65, 76, 7, 9],  # Row 1\n",
    "            [1, 2, 3, 4, 5],  # Row 2\n",
    "        ],\n",
    "    ]\n",
    ")"
   ]
  },
  {
   "cell_type": "code",
   "execution_count": 24,
   "id": "ed524f82",
   "metadata": {},
   "outputs": [
    {
     "data": {
      "text/plain": [
       "array([21, 32, 43,  8,  9])"
      ]
     },
     "execution_count": 24,
     "metadata": {},
     "output_type": "execute_result"
    }
   ],
   "source": [
    "arr_3_d2[0, 1]\n",
    "\n",
    "\n",
    "# Output: [21, 32, 43, 8, 9]"
   ]
  },
  {
   "cell_type": "code",
   "execution_count": 25,
   "id": "6080c3bf",
   "metadata": {},
   "outputs": [
    {
     "data": {
      "text/plain": [
       "np.int64(4)"
      ]
     },
     "execution_count": 25,
     "metadata": {},
     "output_type": "execute_result"
    }
   ],
   "source": [
    "arr_3_d2[1, 2, 3]  # [block][row][column]\n",
    "\n",
    "# Output: 4\n"
   ]
  },
  {
   "cell_type": "code",
   "execution_count": 26,
   "id": "b4a16564",
   "metadata": {},
   "outputs": [
    {
     "data": {
      "text/plain": [
       "array([[34, 43,  6],\n",
       "       [78, 76,  3]])"
      ]
     },
     "execution_count": 26,
     "metadata": {},
     "output_type": "execute_result"
    }
   ],
   "source": [
    "arr_3_d2[:, :, 2]  # [block][row][column]\n",
    "# Output:\n",
    "# [[34 43  6]\n",
    "#  [78 76  3]]\n"
   ]
  },
  {
   "cell_type": "code",
   "execution_count": 27,
   "id": "c1a666ac",
   "metadata": {},
   "outputs": [
    {
     "data": {
      "text/plain": [
       "array([[56, 67],\n",
       "       [54, 65],\n",
       "       [ 1,  2]])"
      ]
     },
     "execution_count": 27,
     "metadata": {},
     "output_type": "execute_result"
    }
   ],
   "source": [
    "arr_3_d2[\n",
    "    1, :, :2\n",
    "]  # Selects block at index 1 (second 2D block), all rows (:), and first two columns (indices 0 and 1 only; :2 is exclusive of index 2)\n",
    "# Output:\n",
    "# [[56 67]\n",
    "#  [54 65]\n",
    "#  [ 1  2]]\n",
    "# ------------------------------------------------------------------------\n",
    "# #In Python slicing, \"exclusive\" means:\n",
    "# The stop index is not included in the result.\n",
    "\n",
    "# So when you write :2, you're telling Python:\n",
    "\n",
    "# \"Start from index 0 and go up to, but not including index 2.\"\n",
    "# ----------------\n",
    "# #Example: a = [10, 20, 30, 40, 50]\n",
    "# print(a[:2])  # Output: [10, 20]\n",
    "# Explanation:\n",
    "\n",
    "# a[:2] includes:\n",
    "\n",
    "# index 0 → 10\n",
    "\n",
    "# index 1 → 20\n",
    "\n",
    "# It excludes=বাদ index 2 (which is 30).\n"
   ]
  },
  {
   "cell_type": "code",
   "execution_count": 28,
   "id": "23dea985",
   "metadata": {},
   "outputs": [
    {
     "data": {
      "text/plain": [
       "(8,)"
      ]
     },
     "execution_count": 28,
     "metadata": {},
     "output_type": "execute_result"
    }
   ],
   "source": [
    "arr = np.array([12, 45, 78, 98, 65, 32, 45, 65])\n",
    "arr.shape"
   ]
  },
  {
   "cell_type": "code",
   "execution_count": 29,
   "id": "a9a3463b",
   "metadata": {},
   "outputs": [],
   "source": [
    "a, b = arr.reshape((2, 4))  # 2 rows, 4 columns"
   ]
  },
  {
   "cell_type": "code",
   "execution_count": 30,
   "id": "103de743",
   "metadata": {},
   "outputs": [
    {
     "data": {
      "text/plain": [
       "array([12, 45, 78, 98])"
      ]
     },
     "execution_count": 30,
     "metadata": {},
     "output_type": "execute_result"
    }
   ],
   "source": [
    "a"
   ]
  },
  {
   "cell_type": "code",
   "execution_count": 31,
   "id": "e3bd8b59",
   "metadata": {},
   "outputs": [
    {
     "data": {
      "text/plain": [
       "array([65, 32, 45, 65])"
      ]
     },
     "execution_count": 31,
     "metadata": {},
     "output_type": "execute_result"
    }
   ],
   "source": [
    "b"
   ]
  },
  {
   "cell_type": "code",
   "execution_count": 32,
   "id": "913a09ae",
   "metadata": {},
   "outputs": [],
   "source": [
    "arr = np.array([12, 54, 98, 78, 40])"
   ]
  },
  {
   "cell_type": "code",
   "execution_count": 33,
   "id": "31fc8c44",
   "metadata": {},
   "outputs": [],
   "source": [
    "new_arr = arr.reshape((5, 1))"
   ]
  },
  {
   "cell_type": "code",
   "execution_count": 34,
   "id": "0076101c",
   "metadata": {},
   "outputs": [
    {
     "data": {
      "text/plain": [
       "array([[12],\n",
       "       [54],\n",
       "       [98],\n",
       "       [78],\n",
       "       [40]])"
      ]
     },
     "execution_count": 34,
     "metadata": {},
     "output_type": "execute_result"
    }
   ],
   "source": [
    "new_arr"
   ]
  },
  {
   "cell_type": "code",
   "execution_count": 35,
   "id": "7d786d99",
   "metadata": {},
   "outputs": [
    {
     "data": {
      "text/plain": [
       "(5, 1)"
      ]
     },
     "execution_count": 35,
     "metadata": {},
     "output_type": "execute_result"
    }
   ],
   "source": [
    "new_arr.shape"
   ]
  },
  {
   "cell_type": "code",
   "execution_count": 36,
   "id": "d395e603",
   "metadata": {},
   "outputs": [
    {
     "data": {
      "text/plain": [
       "2"
      ]
     },
     "execution_count": 36,
     "metadata": {},
     "output_type": "execute_result"
    }
   ],
   "source": [
    "new_arr.ndim"
   ]
  },
  {
   "cell_type": "code",
   "execution_count": 37,
   "id": "8fc3bfbb",
   "metadata": {},
   "outputs": [
    {
     "data": {
      "text/plain": [
       "dtype('int64')"
      ]
     },
     "execution_count": 37,
     "metadata": {},
     "output_type": "execute_result"
    }
   ],
   "source": [
    "new_arr.dtype"
   ]
  },
  {
   "cell_type": "code",
   "execution_count": 38,
   "id": "7abdc0f0",
   "metadata": {},
   "outputs": [
    {
     "name": "stdout",
     "output_type": "stream",
     "text": [
      "[1 2 3]\n"
     ]
    }
   ],
   "source": [
    "# it is used to check the data type of an array\n",
    "# default data type is int64\n",
    "# i changed it to int16\n",
    "a = np.array([1, 2, 3], dtype=\"int16\")\n",
    "print(a)"
   ]
  },
  {
   "cell_type": "code",
   "execution_count": 39,
   "id": "c7f0b940",
   "metadata": {},
   "outputs": [
    {
     "data": {
      "text/plain": [
       "dtype('int64')"
      ]
     },
     "execution_count": 39,
     "metadata": {},
     "output_type": "execute_result"
    }
   ],
   "source": [
    "new_arr.dtype"
   ]
  },
  {
   "cell_type": "code",
   "execution_count": 40,
   "id": "c0ebaf68",
   "metadata": {},
   "outputs": [
    {
     "name": "stdout",
     "output_type": "stream",
     "text": [
      "[1 2 3]\n"
     ]
    }
   ],
   "source": [
    "a = np.array([1, 2, 3], dtype=\"int16\")\n",
    "print(a)"
   ]
  },
  {
   "cell_type": "code",
   "execution_count": 41,
   "id": "a6bca7b9",
   "metadata": {},
   "outputs": [
    {
     "data": {
      "text/plain": [
       "dtype('int16')"
      ]
     },
     "execution_count": 41,
     "metadata": {},
     "output_type": "execute_result"
    }
   ],
   "source": [
    "a.dtype"
   ]
  },
  {
   "cell_type": "code",
   "execution_count": 42,
   "id": "311893c0",
   "metadata": {},
   "outputs": [
    {
     "data": {
      "text/plain": [
       "2"
      ]
     },
     "execution_count": 42,
     "metadata": {},
     "output_type": "execute_result"
    }
   ],
   "source": [
    "a.itemsize  # itemsize returns the size in bytes of each element in the array"
   ]
  },
  {
   "cell_type": "code",
   "execution_count": 43,
   "id": "644720fa",
   "metadata": {},
   "outputs": [
    {
     "data": {
      "text/plain": [
       "6"
      ]
     },
     "execution_count": 43,
     "metadata": {},
     "output_type": "execute_result"
    }
   ],
   "source": [
    "a.nbytes  # nbytes returns the total number of bytes consumed by the elements of the array"
   ]
  },
  {
   "cell_type": "code",
   "execution_count": 44,
   "id": "dc37daf8",
   "metadata": {},
   "outputs": [
    {
     "name": "stdout",
     "output_type": "stream",
     "text": [
      "[[ 1  2  3  4  5  6  7  8  9 10]\n",
      " [11 12 13 14 15 16 17 18 19 20]]\n"
     ]
    }
   ],
   "source": [
    "a = np.array(\n",
    "    [[1, 2, 3, 4, 5, 6, 7, 8, 9, 10], [11, 12, 13, 14, 15, 16, 17, 18, 19, 20]]\n",
    ")\n",
    "print(a)"
   ]
  },
  {
   "cell_type": "code",
   "execution_count": 45,
   "id": "c6aa4a88",
   "metadata": {},
   "outputs": [
    {
     "data": {
      "text/plain": [
       "array([ 1,  2,  3,  4,  5,  6,  7,  8,  9, 10])"
      ]
     },
     "execution_count": 45,
     "metadata": {},
     "output_type": "execute_result"
    }
   ],
   "source": [
    "a[0, :]"
   ]
  },
  {
   "cell_type": "code",
   "execution_count": 46,
   "id": "68a13ed5",
   "metadata": {},
   "outputs": [
    {
     "data": {
      "text/plain": [
       "array([ 3, 13])"
      ]
     },
     "execution_count": 46,
     "metadata": {},
     "output_type": "execute_result"
    }
   ],
   "source": [
    "a[:, 2]"
   ]
  },
  {
   "cell_type": "code",
   "execution_count": 47,
   "id": "9a488371",
   "metadata": {},
   "outputs": [
    {
     "data": {
      "text/plain": [
       "array([2, 4, 6, 8])"
      ]
     },
     "execution_count": 47,
     "metadata": {},
     "output_type": "execute_result"
    }
   ],
   "source": [
    "a[0, 1:-1:2]"
   ]
  },
  {
   "cell_type": "code",
   "execution_count": 48,
   "id": "bc032646",
   "metadata": {},
   "outputs": [
    {
     "name": "stdout",
     "output_type": "stream",
     "text": [
      "[[ 1  2  1  4  5  6  7  8  9 10]\n",
      " [11 12  2 14 15 20 17 18 19 20]]\n"
     ]
    }
   ],
   "source": [
    "a[1, 5] = 20\n",
    "\n",
    "a[:, 2] = [1, 2]\n",
    "print(a)"
   ]
  },
  {
   "cell_type": "code",
   "execution_count": 49,
   "id": "d24fe29d",
   "metadata": {},
   "outputs": [
    {
     "name": "stdout",
     "output_type": "stream",
     "text": [
      "[[[1 2]\n",
      "  [9 9]]\n",
      "\n",
      " [[5 6]\n",
      "  [8 8]]]\n"
     ]
    }
   ],
   "source": [
    "b = np.array([[[1, 2], [3, 4]], [[5, 6], [7, 8]]])\n",
    "b[:, 1, :] = [[9, 9], [8, 8]]\n",
    "print(b)"
   ]
  },
  {
   "cell_type": "code",
   "execution_count": 50,
   "id": "c9ef9b12",
   "metadata": {},
   "outputs": [],
   "source": [
    "arr = np.array([21, 54, 98, 87, 65])  # 1D Array"
   ]
  },
  {
   "cell_type": "code",
   "execution_count": 51,
   "id": "331905e2",
   "metadata": {},
   "outputs": [
    {
     "data": {
      "text/plain": [
       "5"
      ]
     },
     "execution_count": 51,
     "metadata": {},
     "output_type": "execute_result"
    }
   ],
   "source": [
    "len(arr)"
   ]
  },
  {
   "cell_type": "code",
   "execution_count": 52,
   "id": "fd42cbfa",
   "metadata": {},
   "outputs": [
    {
     "name": "stdout",
     "output_type": "stream",
     "text": [
      "21\n",
      "54\n",
      "98\n",
      "87\n",
      "65\n"
     ]
    }
   ],
   "source": [
    "# use for loop\n",
    "for i in arr:\n",
    "    print(i)"
   ]
  },
  {
   "cell_type": "code",
   "execution_count": 53,
   "id": "0b12243d",
   "metadata": {},
   "outputs": [
    {
     "name": "stdout",
     "output_type": "stream",
     "text": [
      "21\n",
      "54\n",
      "98\n",
      "87\n",
      "65\n"
     ]
    }
   ],
   "source": [
    "# use while loop\n",
    "i = 0\n",
    "while i < len(arr):\n",
    "    print(arr[i])\n",
    "    i += 1\n"
   ]
  },
  {
   "cell_type": "code",
   "execution_count": 54,
   "id": "e445e062",
   "metadata": {},
   "outputs": [],
   "source": [
    "arr2 = np.array([[54, 87, 98, 54], [12, 56, 89, 78]])  # 2d array"
   ]
  },
  {
   "cell_type": "code",
   "execution_count": 55,
   "id": "8fa46ca1",
   "metadata": {},
   "outputs": [
    {
     "name": "stdout",
     "output_type": "stream",
     "text": [
      "54\n",
      "87\n",
      "98\n",
      "54\n",
      "12\n",
      "56\n",
      "89\n",
      "78\n"
     ]
    }
   ],
   "source": [
    "for i in arr2:\n",
    "    for j in i:\n",
    "        print(j)"
   ]
  },
  {
   "cell_type": "code",
   "execution_count": 56,
   "id": "a7ad1973",
   "metadata": {},
   "outputs": [],
   "source": [
    "arr3 = np.array(\n",
    "    [[[32, 54, 98, 87], [12, 45, 87, 98]], [[12, 45, 78, 98], [74, 85, 96, 14]]]\n",
    ")  # 3d Array"
   ]
  },
  {
   "cell_type": "code",
   "execution_count": 57,
   "id": "d7685b54",
   "metadata": {},
   "outputs": [],
   "source": [
    " #check occurance / Frequency Counting\n",
    "\n",
    "freq = {} # Dictionary to store frequency of each element\n",
    " #check occurance / Frequency Counting\n",
    "for i in arr3: # 2 times\n",
    "  for j in i: # 4 times\n",
    "    for k in j: # 16 times\n",
    "      if k in freq:\n",
    "        freq[k] += 1\n",
    "      else:\n",
    "        freq[k] = 1\n"
   ]
  },
  {
   "cell_type": "code",
   "execution_count": 58,
   "id": "438cb1ab",
   "metadata": {},
   "outputs": [
    {
     "data": {
      "text/plain": [
       "{np.int64(32): 1,\n",
       " np.int64(54): 1,\n",
       " np.int64(98): 3,\n",
       " np.int64(87): 2,\n",
       " np.int64(12): 2,\n",
       " np.int64(45): 2,\n",
       " np.int64(78): 1,\n",
       " np.int64(74): 1,\n",
       " np.int64(85): 1,\n",
       " np.int64(96): 1,\n",
       " np.int64(14): 1}"
      ]
     },
     "execution_count": 58,
     "metadata": {},
     "output_type": "execute_result"
    }
   ],
   "source": [
    "freq"
   ]
  },
  {
   "cell_type": "code",
   "execution_count": 59,
   "id": "28baac92",
   "metadata": {},
   "outputs": [],
   "source": [
    "arr1 = np.array([[21,54,98],[54,98,87]])\n",
    "arr2 = np.array([[54,98,65],[21,54,98]])"
   ]
  },
  {
   "cell_type": "code",
   "execution_count": 60,
   "id": "824539dd",
   "metadata": {},
   "outputs": [],
   "source": [
    "#concatenate\n",
    "new_arr = np.concatenate((arr1, arr2))"
   ]
  },
  {
   "cell_type": "code",
   "execution_count": 61,
   "id": "9a320a61",
   "metadata": {},
   "outputs": [],
   "source": [
    "a,b,c,d = np.split(new_arr, 4)"
   ]
  },
  {
   "cell_type": "code",
   "execution_count": 62,
   "id": "e01c19aa",
   "metadata": {},
   "outputs": [
    {
     "data": {
      "text/plain": [
       "array([[21, 54, 98]])"
      ]
     },
     "execution_count": 62,
     "metadata": {},
     "output_type": "execute_result"
    }
   ],
   "source": [
    "a"
   ]
  },
  {
   "cell_type": "code",
   "execution_count": 63,
   "id": "037f61b5",
   "metadata": {},
   "outputs": [
    {
     "data": {
      "text/plain": [
       "array([[54, 98, 87]])"
      ]
     },
     "execution_count": 63,
     "metadata": {},
     "output_type": "execute_result"
    }
   ],
   "source": [
    "b"
   ]
  },
  {
   "cell_type": "code",
   "execution_count": 64,
   "id": "fb749743",
   "metadata": {},
   "outputs": [
    {
     "data": {
      "text/plain": [
       "array([[54, 98, 65]])"
      ]
     },
     "execution_count": 64,
     "metadata": {},
     "output_type": "execute_result"
    }
   ],
   "source": [
    "c"
   ]
  },
  {
   "cell_type": "code",
   "execution_count": 65,
   "id": "4c3b3095",
   "metadata": {},
   "outputs": [
    {
     "data": {
      "text/plain": [
       "array([[21, 54, 98]])"
      ]
     },
     "execution_count": 65,
     "metadata": {},
     "output_type": "execute_result"
    }
   ],
   "source": [
    "d"
   ]
  },
  {
   "cell_type": "code",
   "execution_count": 66,
   "id": "26332c1c",
   "metadata": {},
   "outputs": [
    {
     "data": {
      "text/plain": [
       "np.float64(65.0)"
      ]
     },
     "execution_count": 66,
     "metadata": {},
     "output_type": "execute_result"
    }
   ],
   "source": [
    "np.mean(arr)"
   ]
  },
  {
   "cell_type": "code",
   "execution_count": 67,
   "id": "708b3b6a",
   "metadata": {},
   "outputs": [
    {
     "data": {
      "text/plain": [
       "np.float64(65.0)"
      ]
     },
     "execution_count": 67,
     "metadata": {},
     "output_type": "execute_result"
    }
   ],
   "source": [
    "#median means the middle value of a sorted array.\n",
    "np.median(arr)\n"
   ]
  },
  {
   "cell_type": "code",
   "execution_count": null,
   "id": "08907053",
   "metadata": {},
   "outputs": [
    {
     "data": {
      "text/plain": [
       "np.float64(26.94438717061496)"
      ]
     },
     "execution_count": 68,
     "metadata": {},
     "output_type": "execute_result"
    }
   ],
   "source": [
    "np.std(arr) # Standard deviation measures the amount of variation or dispersion in a set of values."
   ]
  },
  {
   "cell_type": "code",
   "execution_count": null,
   "id": "136c838c",
   "metadata": {},
   "outputs": [
    {
     "data": {
      "text/plain": [
       "np.int64(98)"
      ]
     },
     "execution_count": 69,
     "metadata": {},
     "output_type": "execute_result"
    }
   ],
   "source": [
    "np.max(arr) "
   ]
  },
  {
   "cell_type": "code",
   "execution_count": null,
   "id": "276bc526",
   "metadata": {},
   "outputs": [
    {
     "data": {
      "text/plain": [
       "np.int64(21)"
      ]
     },
     "execution_count": 70,
     "metadata": {},
     "output_type": "execute_result"
    }
   ],
   "source": [
    "np.min(arr)  "
   ]
  },
  {
   "cell_type": "code",
   "execution_count": null,
   "id": "27b84aa3",
   "metadata": {},
   "outputs": [],
   "source": []
  }
 ],
 "metadata": {
  "kernelspec": {
   "display_name": "base",
   "language": "python",
   "name": "python3"
  },
  "language_info": {
   "codemirror_mode": {
    "name": "ipython",
    "version": 3
   },
   "file_extension": ".py",
   "mimetype": "text/x-python",
   "name": "python",
   "nbconvert_exporter": "python",
   "pygments_lexer": "ipython3",
   "version": "3.13.5"
  }
 },
 "nbformat": 4,
 "nbformat_minor": 5
}
